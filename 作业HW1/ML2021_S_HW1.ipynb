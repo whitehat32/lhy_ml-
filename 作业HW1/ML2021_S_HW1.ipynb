{
 "cells": [
  {
   "cell_type": "code",
   "execution_count": 1,
   "metadata": {
    "id": "eQfMeJ6siR-L"
   },
   "outputs": [],
   "source": [
    "tr_path = 'covid.train.csv'\n",
    "te_path = 'covid.test.csv'"
   ]
  },
  {
   "cell_type": "code",
   "execution_count": 2,
   "metadata": {
    "id": "vPKr7icEiR-P"
   },
   "outputs": [],
   "source": [
    "import numpy as np\n",
    "import pandas as pd\n",
    "import torch\n",
    "import torch.nn as nn\n",
    "from torch.utils.data import Dataset, DataLoader \n",
    "import os\n",
    "\n",
    "myseed = 324960  # set a random seed for reproducibility\n",
    "torch.backends.cudnn.deterministic = True\n",
    "torch.backends.cudnn.benchmark = False\n",
    "np.random.seed(myseed)\n",
    "torch.manual_seed(myseed)\n",
    "if torch.cuda.is_available():\n",
    "    torch.cuda.manual_seed_all(myseed)"
   ]
  },
  {
   "cell_type": "code",
   "execution_count": 3,
   "metadata": {
    "id": "6_zrxdcxiR-Q"
   },
   "outputs": [],
   "source": [
    "import matplotlib.pyplot as plt\n",
    "from matplotlib.pyplot import figure\n",
    "\n",
    "def show_curve(record, title = ''):\n",
    "    x1 = list(range(len(record['train'])))\n",
    "    x2 = x1[::len(record['train']) // len(record['dev'])]\n",
    "    plt.plot(x1, record['train'], 'red', label = 'train')\n",
    "    plt.plot(x2, record['dev'], 'blue', label = 'dev')\n",
    "    plt.ylim(0.,20.)\n",
    "    plt.xlabel('steps')\n",
    "    plt.ylabel('mse')\n",
    "    plt.title('mse of {}'.format(title))\n",
    "    plt.legend()\n",
    "    plt.show()\n",
    "def show_pred(dev_set, model, device, lim = 35.0):\n",
    "    model.eval()\n",
    "    preds = []\n",
    "    targets = []\n",
    "    for x, y in dev_set:\n",
    "        x = x.to(device)\n",
    "        y = y.to(device)\n",
    "        with torch.no_grad():\n",
    "            pred = model(x)\n",
    "            preds.append(pred.detach().cpu())\n",
    "            targets.append(y.detach().cpu())\n",
    "    preds = torch.cat(preds, dim = 0).numpy()\n",
    "    targets = torch.cat(targets, dim = 0).numpy()\n",
    "    # print(preds.shape)\n",
    "    # print(targets.shape)\n",
    "    # print(type(preds))\n",
    "    figure(figsize=(5,5))\n",
    "    plt.scatter(targets, preds, c = 'red', alpha=0.5)\n",
    "    plt.plot([-0.2, lim],[-0.2, lim], 'blue')\n",
    "    plt.xlim(-0.2, lim)\n",
    "    plt.ylim(-0.2, lim)\n",
    "    plt.xlabel('ground truth')\n",
    "    plt.ylabel('preds')\n",
    "    plt.title('pred')\n",
    "    plt.show()"
   ]
  },
  {
   "cell_type": "code",
   "execution_count": 4,
   "metadata": {
    "id": "zaevQA90iR-Q"
   },
   "outputs": [],
   "source": [
    "data = pd.read_csv(tr_path)\n",
    "# data.head(10)\n",
    "# data.info()\n",
    "# data.describe()\n",
    "# x = data[data.columns[1:94]]\n",
    "# y = data[data.columns[94]]\n",
    "# from sklearn.feature_selection import SelectKBest\n",
    "# from sklearn.feature_selection import f_regression\n",
    "\n",
    "# slb = SelectKBest(f_regression, k = 15)\n",
    "# x = (x - x.min()) / (x.max() - x.min())\n",
    "# slb.fit(x, y)\n",
    "# pd_label = pd.DataFrame(x.columns)\n",
    "# pd_score = pd.DataFrame(slb.scores_)\n",
    "# pd_cs = pd.concat([pd_label, pd_score], axis = 1)\n",
    "# pd_cs.columns = ['l', 's']\n",
    "# pd_cs.nlargest(15, 's')"
   ]
  },
  {
   "cell_type": "code",
   "execution_count": 5,
   "metadata": {
    "id": "9F-ww1BViR-S"
   },
   "outputs": [],
   "source": [
    "class hw1Dataset(Dataset):\n",
    "    def __init__(self, path, mode='tr'):\n",
    "        super().__init__()\n",
    "        data_pd = pd.read_csv(path)\n",
    "        data = ( np.array(data_pd) )[:,1:].astype(float)\n",
    "#         print('s={}'.format(data.shape[1]))\n",
    "        feats = [75, 57, 42, 60, 78, 43, 61, 79, 40, 58, 76, 41, 59, 77,92]\n",
    "        if mode == 'te':\n",
    "            self.data = torch.FloatTensor(data[:,feats])\n",
    "        else:\n",
    "            if mode == 'tr':\n",
    "                data = torch.FloatTensor( [t for i , t  in enumerate(data)] )\n",
    "            elif mode == 'dev':\n",
    "                data = torch.FloatTensor( [t for i , t in enumerate(data)] )\n",
    "#                 print(data)\n",
    "#                 print('***')\n",
    "#             print('l = {}'.format(len(data)))\n",
    "            print(data.size(1))\n",
    "            self.data = data[:,feats]\n",
    "            self.target = data[:,-1]\n",
    "        self.data[:,40:] = (self.data[:,40:] - self.data[:,40:].mean(dim = 0, keepdim = True)) / self.data[:,40:].std(dim = 0, keepdim = True)\n",
    "        self.mode = mode\n",
    "        self.dim = self.data.shape[1]\n",
    "        print('Finished reading the {} set of COVID19 Dataset ({} samples found, each dim = {})'\n",
    "              .format(mode, len(self.data), self.dim))\n",
    "    def __getitem__(self, index):\n",
    "        if self.mode == 'te':\n",
    "            return self.data[index]\n",
    "        else:\n",
    "            return self.data[index] , self.target[index]\n",
    "    def __len__(self):\n",
    "        return len(self.data)"
   ]
  },
  {
   "cell_type": "code",
   "execution_count": 6,
   "metadata": {
    "id": "SSTqgSsniR-T"
   },
   "outputs": [],
   "source": [
    "class hw1Net(nn.Module):\n",
    "    def __init__(self , inputdim):\n",
    "        super().__init__()\n",
    "        self.net = nn.Sequential(\n",
    "            nn.Linear(inputdim,32),\n",
    "            nn.BatchNorm1d(32),\n",
    "            nn.Dropout(p = 0.1),\n",
    "            nn.LeakyReLU(),\n",
    "            nn.Linear(32,1)\n",
    "        )\n",
    "        self.criterion = nn.MSELoss(reduction ='mean')\n",
    "    def forward(self,x):\n",
    "        return self.net(x).squeeze(dim=1)\n",
    "    def cal_loss1(self, pred, target):\n",
    "        ''' Calculate loss '''\n",
    "        # TODO: you may implement L2 regularization here\n",
    "        return self.criterion(pred, target) \n",
    "\n",
    "    def cal_loss(self, pred, target , m):\n",
    "        ''' Calculate loss '''\n",
    "        # TODO: you may implement L2 regularization here\n",
    "        l2 = []\n",
    "        for t in m:\n",
    "            if type(t) is nn.Linear:\n",
    "                l2.append((t.weight ** 2).sum() / 2.0)\n",
    "        return self.criterion(pred, target) + sum(l2) * 0.1\n",
    "    "
   ]
  },
  {
   "cell_type": "code",
   "execution_count": 7,
   "metadata": {
    "id": "w1V3QjUqiR-T"
   },
   "outputs": [],
   "source": [
    "#构造数据集函数\n",
    "def create_dataLoader(path, mode , bs):\n",
    "    data_set = hw1Dataset(path, mode)\n",
    "    print(len(data_set))\n",
    "#     print('111{}'.format(data_set[0]))\n",
    "    return DataLoader(data_set, bs, shuffle = (mode == 'tr'), pin_memory=True)\n",
    "    "
   ]
  },
  {
   "cell_type": "code",
   "execution_count": 8,
   "metadata": {
    "id": "iGpEi9_EiR-U"
   },
   "outputs": [],
   "source": [
    "config = {\n",
    "    'n_epochs': 5000,\n",
    "    'batch_size': 270,\n",
    "    'optimizer': 'Adam',\n",
    "    'optim_hparas': {                # hyper-parameters for the optimizer (depends on which optimizer you are using)\n",
    "        # 'lr': 0.001,                 # learning rate of SGD\n",
    "        # 'momentum': 0.8              # momentum for SGD\n",
    "    },\n",
    "    'early_stop': 500,               # early stopping epochs (the number epochs since your model's last improvement)\n",
    "    'save_path': 'models/model.pth'  # your model will be saved here\n",
    "}"
   ]
  },
  {
   "cell_type": "code",
   "execution_count": 9,
   "metadata": {
    "colab": {
     "base_uri": "https://localhost:8080/"
    },
    "id": "gmiZIQwciR-V",
    "outputId": "44e21390-a195-449f-bab7-60417851d472"
   },
   "outputs": [
    {
     "name": "stdout",
     "output_type": "stream",
     "text": [
      "94\n",
      "Finished reading the tr set of COVID19 Dataset (2700 samples found, each dim = 15)\n",
      "2700\n",
      "94\n",
      "Finished reading the dev set of COVID19 Dataset (2700 samples found, each dim = 15)\n",
      "2700\n",
      "Finished reading the te set of COVID19 Dataset (893 samples found, each dim = 15)\n",
      "893\n",
      "15\n"
     ]
    }
   ],
   "source": [
    "#构造数据集\n",
    "tr_set = create_dataLoader(tr_path, 'tr', config['batch_size'])\n",
    "\n",
    "dev_set = create_dataLoader(tr_path, 'dev', config['batch_size'])\n",
    "\n",
    "te_set = create_dataLoader(te_path, 'te', config['batch_size'])\n",
    "device = 'cuda' if torch.cuda.is_available() else 'cpu'\n",
    "print(tr_set.dataset.dim)\n",
    "model = hw1Net(tr_set.dataset.dim).to(device)\n"
   ]
  },
  {
   "cell_type": "code",
   "execution_count": 10,
   "metadata": {
    "id": "FfqTSCRCiR-W"
   },
   "outputs": [],
   "source": [
    "optimizer = getattr(torch.optim,config['optimizer'])(model.parameters(), **config['optim_hparas'])\n"
   ]
  },
  {
   "cell_type": "code",
   "execution_count": 11,
   "metadata": {
    "id": "RQCvDsM3iR-W"
   },
   "outputs": [],
   "source": [
    "def dev(model, mdev_set):\n",
    "    loss_sum = 0\n",
    "    model.eval()\n",
    "    res = 0\n",
    "    for x, y in mdev_set:\n",
    "        # print('???')\n",
    "        # print(type(x))\n",
    "        # print(type(y))\n",
    "        x = x.to(device)\n",
    "        y = y.to(device)\n",
    "#         print('???')\n",
    "        with torch.no_grad():\n",
    "            pred = model(x)\n",
    "#             print('p={}'.format(len(pred)))\n",
    "#             print('y={}'.format(len(y)))\n",
    "            loss = model.cal_loss1(pred, y)\n",
    "        loss_sum += loss.detach().cpu().item() * len(x)\n",
    "    \n",
    "    loss_sum /= len(mdev_set.dataset)\n",
    "    return loss_sum"
   ]
  },
  {
   "cell_type": "code",
   "execution_count": 12,
   "metadata": {
    "id": "4PmoNkS2iR-W"
   },
   "outputs": [],
   "source": [
    "def train(model, mtr_set, mdev_set):\n",
    "    cnt = 0\n",
    "    mmse = 1000\n",
    "    res = {'train':[],'dev':[]}\n",
    "    for i in range(config['n_epochs']):\n",
    "        model.train()\n",
    "        for x, y in mtr_set:\n",
    "            x = x.to(device)\n",
    "            y = y.to(device)\n",
    "            optimizer.zero_grad()\n",
    "            pred = model(x)\n",
    "            loss = model.cal_loss(pred, y, model.modules())\n",
    "            loss.backward()\n",
    "            optimizer.step()\n",
    "            res['train'].append(loss.detach().cpu().item())\n",
    "        n_loss = dev(model, mdev_set)\n",
    "        res['dev'].append(n_loss)\n",
    "        if mmse > n_loss:\n",
    "            mmse = n_loss\n",
    "            print('{}th epochs, loss is {}'.format(i + 1, mmse))\n",
    "            torch.save(model.state_dict(), config['save_path'])  # Save model to specified path\n",
    "            cnt = 0\n",
    "        else:\n",
    "            cnt += 1\n",
    "        if cnt >= config['early_stop']:\n",
    "            break\n",
    "    return res\n",
    "    \n",
    "            "
   ]
  },
  {
   "cell_type": "code",
   "execution_count": 13,
   "metadata": {
    "id": "A9ZxjxV_iR-X"
   },
   "outputs": [],
   "source": [
    "def test(model, te_set):\n",
    "    preds = []\n",
    "    model.eval()\n",
    "    for x in te_set:\n",
    "        x = x.to(device)\n",
    "        with torch.no_grad():\n",
    "            pred = model(x)\n",
    "            preds.append(pred.detach().cpu())\n",
    "    preds = torch.cat(preds, dim = 0).numpy()\n",
    "    return preds"
   ]
  },
  {
   "cell_type": "code",
   "execution_count": 14,
   "metadata": {
    "colab": {
     "base_uri": "https://localhost:8080/"
    },
    "id": "jCqHTWoFiR-X",
    "outputId": "3b8c6c68-67d9-4337-c8a9-3d83e636dc33"
   },
   "outputs": [
    {
     "name": "stdout",
     "output_type": "stream",
     "text": [
      "1th epochs, loss is 271.9164520263672\n",
      "2th epochs, loss is 263.40051956176757\n",
      "3th epochs, loss is 249.34386558532714\n",
      "4th epochs, loss is 244.42329635620118\n",
      "5th epochs, loss is 237.30668716430665\n",
      "6th epochs, loss is 224.80667266845703\n",
      "7th epochs, loss is 221.9421745300293\n",
      "10th epochs, loss is 220.01174087524413\n",
      "12th epochs, loss is 214.6972198486328\n",
      "13th epochs, loss is 211.60129318237304\n",
      "14th epochs, loss is 206.07325897216796\n",
      "15th epochs, loss is 191.5809700012207\n",
      "16th epochs, loss is 169.91219253540038\n",
      "17th epochs, loss is 169.36341934204103\n",
      "19th epochs, loss is 165.26427536010743\n",
      "20th epochs, loss is 164.08585891723632\n",
      "21th epochs, loss is 153.49995460510254\n",
      "22th epochs, loss is 139.45467567443848\n",
      "23th epochs, loss is 130.20213737487794\n",
      "24th epochs, loss is 125.43985290527344\n",
      "25th epochs, loss is 115.76747016906738\n",
      "26th epochs, loss is 111.89748802185059\n",
      "27th epochs, loss is 100.24737129211425\n",
      "29th epochs, loss is 98.82266159057617\n",
      "31th epochs, loss is 84.72778091430663\n",
      "34th epochs, loss is 58.9199878692627\n",
      "37th epochs, loss is 58.33702640533447\n",
      "39th epochs, loss is 37.1085506439209\n",
      "41th epochs, loss is 23.623353099823\n",
      "47th epochs, loss is 20.539025735855102\n",
      "49th epochs, loss is 14.72366099357605\n",
      "54th epochs, loss is 14.597246837615966\n",
      "55th epochs, loss is 8.504815769195556\n",
      "64th epochs, loss is 8.415331888198853\n",
      "65th epochs, loss is 7.901352071762085\n",
      "67th epochs, loss is 7.385671949386596\n",
      "70th epochs, loss is 7.337474942207336\n",
      "80th epochs, loss is 6.811708688735962\n",
      "87th epochs, loss is 6.598100352287292\n",
      "91th epochs, loss is 6.515114831924438\n",
      "93th epochs, loss is 6.059343075752258\n",
      "104th epochs, loss is 5.382332396507263\n",
      "124th epochs, loss is 5.083196210861206\n",
      "126th epochs, loss is 4.918508124351502\n",
      "130th epochs, loss is 4.897544574737549\n",
      "137th epochs, loss is 4.74247567653656\n",
      "140th epochs, loss is 4.422623777389527\n",
      "148th epochs, loss is 4.386709356307984\n",
      "149th epochs, loss is 4.2489711284637455\n",
      "151th epochs, loss is 4.143450236320495\n",
      "152th epochs, loss is 4.071587693691254\n",
      "160th epochs, loss is 3.9911657214164733\n",
      "162th epochs, loss is 3.8040794253349306\n",
      "164th epochs, loss is 3.7816493988037108\n",
      "174th epochs, loss is 3.778925061225891\n",
      "177th epochs, loss is 3.439461123943329\n",
      "186th epochs, loss is 3.3667301893234254\n",
      "187th epochs, loss is 3.297977590560913\n",
      "188th epochs, loss is 3.1894655346870424\n",
      "194th epochs, loss is 3.042772340774536\n",
      "199th epochs, loss is 3.010373091697693\n",
      "210th epochs, loss is 2.830682408809662\n",
      "219th epochs, loss is 2.8162675857543946\n",
      "221th epochs, loss is 2.548380267620087\n",
      "227th epochs, loss is 2.539426839351654\n",
      "229th epochs, loss is 2.387084984779358\n",
      "234th epochs, loss is 2.349863922595978\n",
      "237th epochs, loss is 2.2085572481155396\n",
      "243th epochs, loss is 2.1538249850273132\n",
      "245th epochs, loss is 2.1515548706054686\n",
      "247th epochs, loss is 2.05914820432663\n",
      "253th epochs, loss is 1.9555102467536927\n",
      "254th epochs, loss is 1.9477669596672058\n",
      "277th epochs, loss is 1.7339321315288543\n",
      "281th epochs, loss is 1.653527170419693\n",
      "293th epochs, loss is 1.621657246351242\n",
      "309th epochs, loss is 1.4684979677200318\n",
      "312th epochs, loss is 1.4421757698059081\n",
      "315th epochs, loss is 1.4210154950618743\n",
      "326th epochs, loss is 1.366277801990509\n",
      "341th epochs, loss is 1.301181972026825\n",
      "353th epochs, loss is 1.265391331911087\n",
      "356th epochs, loss is 1.225477123260498\n",
      "365th epochs, loss is 1.217521995306015\n",
      "375th epochs, loss is 1.1897086381912232\n",
      "382th epochs, loss is 1.1596639275550842\n",
      "393th epochs, loss is 1.1385967791080476\n",
      "397th epochs, loss is 1.1175783455371857\n",
      "407th epochs, loss is 1.1125568687915801\n",
      "415th epochs, loss is 1.0867692410945893\n",
      "418th epochs, loss is 1.0842093646526336\n",
      "432th epochs, loss is 1.04820474088192\n",
      "456th epochs, loss is 1.016670322418213\n",
      "473th epochs, loss is 1.0081673353910445\n",
      "477th epochs, loss is 0.9989999145269394\n",
      "483th epochs, loss is 0.9967273652553559\n",
      "491th epochs, loss is 0.9904066294431686\n",
      "501th epochs, loss is 0.9754153192043304\n",
      "520th epochs, loss is 0.970625364780426\n",
      "536th epochs, loss is 0.9649974673986434\n",
      "558th epochs, loss is 0.9569104105234146\n",
      "560th epochs, loss is 0.949527707695961\n",
      "568th epochs, loss is 0.9483518928289414\n",
      "576th epochs, loss is 0.9466016560792923\n",
      "618th epochs, loss is 0.9434605509042739\n",
      "673th epochs, loss is 0.9420220971107482\n",
      "698th epochs, loss is 0.9395909577608108\n",
      "729th epochs, loss is 0.9385885089635849\n",
      "751th epochs, loss is 0.9356250554323197\n"
     ]
    }
   ],
   "source": [
    "c_res = train(model, tr_set, dev_set)\n"
   ]
  },
  {
   "cell_type": "code",
   "execution_count": 15,
   "metadata": {
    "colab": {
     "base_uri": "https://localhost:8080/",
     "height": 295
    },
    "id": "SQtJDuBYiR-X",
    "outputId": "6e8a91c5-2555-4369-a7a7-72afd4330ec8"
   },
   "outputs": [
    {
     "data": {
      "image/png": "[encoded data removed]",
      "text/plain": [
       "<Figure size 432x288 with 1 Axes>"
      ]
     },
     "metadata": {
      "needs_background": "light"
     },
     "output_type": "display_data"
    }
   ],
   "source": [
    "# print(c_res.shape)\n",
    "show_curve(c_res)\n"
   ]
  },
  {
   "cell_type": "code",
   "execution_count": 16,
   "metadata": {
    "colab": {
     "base_uri": "https://localhost:8080/",
     "height": 350
    },
    "id": "r5WS6aqSiR-X",
    "outputId": "c79907da-d0ea-4bc6-fe21-5f4dbf440695"
   },
   "outputs": [
    {
     "data": {
      "image/png": "[encoded data removed]",
      "text/plain": [
       "<Figure size 360x360 with 1 Axes>"
      ]
     },
     "metadata": {
      "needs_background": "light"
     },
     "output_type": "display_data"
    }
   ],
   "source": [
    "del model\n",
    "model = hw1Net(tr_set.dataset.dim).to(device)\n",
    "ckpt = torch.load(config['save_path'], map_location='cpu')  # Load your best model\n",
    "model.load_state_dict(ckpt)\n",
    "show_pred(dev_set, model, device)"
   ]
  },
  {
   "cell_type": "code",
   "execution_count": 17,
   "metadata": {
    "id": "7JQM5cWBiR-Y"
   },
   "outputs": [],
   "source": [
    "res = test(model, te_set)\n",
    "df = pd.DataFrame(res, columns = ['tested_positive'])\n",
    "df.to_csv('pred1.csv', index_label = 'id')"
   ]
  }
 ],
 "metadata": {
  "accelerator": "GPU",
  "colab": {
   "collapsed_sections": [],
   "name": "ML2021_S_HW1.ipynb",
   "provenance": [],
   "toc_visible": true
  },
  "kernelspec": {
   "display_name": "Python 3",
   "language": "python",
   "name": "python3"
  },
  "language_info": {
   "codemirror_mode": {
    "name": "ipython",
    "version": 3
   },
   "file_extension": ".py",
   "mimetype": "text/x-python",
   "name": "python",
   "nbconvert_exporter": "python",
   "pygments_lexer": "ipython3",
   "version": "3.7.0"
  }
 },
 "nbformat": 4,
 "nbformat_minor": 4
}
